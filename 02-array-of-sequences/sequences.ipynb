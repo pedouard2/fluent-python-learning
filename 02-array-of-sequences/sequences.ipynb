{
 "cells": [
  {
   "cell_type": "markdown",
   "id": "34768e50-c885-4b01-ab30-5b293d634e98",
   "metadata": {},
   "source": [
    "# Chapter 2. An Array of Sequences"
   ]
  },
  {
   "cell_type": "code",
   "execution_count": 1,
   "id": "30742b50-fc3d-45a7-9e1e-6e257c961b33",
   "metadata": {},
   "outputs": [],
   "source": [
    "symbols = '$¢£¥€¤'"
   ]
  },
  {
   "cell_type": "markdown",
   "id": "3c8f45d8-f5c4-41dc-bbbe-9cd237d72a26",
   "metadata": {},
   "source": [
    "## List Comprehensions and Readability"
   ]
  },
  {
   "cell_type": "markdown",
   "id": "4da78023-a7d5-4b33-b555-d608b6006253",
   "metadata": {},
   "source": [
    "Example 2-1. Build a list of Unicode code points from a string"
   ]
  },
  {
   "cell_type": "code",
   "execution_count": 4,
   "id": "c7992d7c-041a-4b11-beac-8377328ee164",
   "metadata": {},
   "outputs": [
    {
     "data": {
      "text/plain": [
       "[36, 162, 163, 165, 8364, 164]"
      ]
     },
     "execution_count": 4,
     "metadata": {},
     "output_type": "execute_result"
    }
   ],
   "source": [
    "codes = []\n",
    "for symbol in symbols:\n",
    "    codes.append(ord(symbol))\n",
    "codes"
   ]
  },
  {
   "cell_type": "markdown",
   "id": "7efcbb09-0aed-4616-be7e-473264eca2a6",
   "metadata": {},
   "source": [
    "Example 2-2. Build a list of Unicode code points from a string, using a listcomp"
   ]
  },
  {
   "cell_type": "code",
   "execution_count": 6,
   "id": "77c2ed44-2cbe-403d-9b63-a203bfaeade2",
   "metadata": {},
   "outputs": [
    {
     "data": {
      "text/plain": [
       "[36, 162, 163, 165, 8364, 164]"
      ]
     },
     "execution_count": 6,
     "metadata": {},
     "output_type": "execute_result"
    }
   ],
   "source": [
    "codes = [ord(symbol) for symbol in symbols]\n",
    "codes"
   ]
  },
  {
   "cell_type": "markdown",
   "id": "edc4a6cc-6496-44ae-ba17-0d853617ac6c",
   "metadata": {},
   "source": [
    "## Listcomps Versus map and filter"
   ]
  },
  {
   "cell_type": "markdown",
   "id": "c46e7458-f39d-4ef5-bb09-3e7bfdb625bd",
   "metadata": {},
   "source": [
    "Example 2-3. The same list built by a listcomp and a map/filter composition"
   ]
  },
  {
   "cell_type": "code",
   "execution_count": 9,
   "id": "99580e48-2bff-459b-ac41-a422d64a4a88",
   "metadata": {},
   "outputs": [
    {
     "data": {
      "text/plain": [
       "[162, 163, 165, 8364, 164]"
      ]
     },
     "execution_count": 9,
     "metadata": {},
     "output_type": "execute_result"
    }
   ],
   "source": [
    "beyond_ascii = [ord(s) for s in symbols if ord(s) > 127]\n",
    "beyond_ascii"
   ]
  },
  {
   "cell_type": "code",
   "execution_count": 10,
   "id": "f1d638f4-7395-4dba-a037-28e30133db68",
   "metadata": {},
   "outputs": [
    {
     "data": {
      "text/plain": [
       "[162, 163, 165, 8364, 164]"
      ]
     },
     "execution_count": 10,
     "metadata": {},
     "output_type": "execute_result"
    }
   ],
   "source": [
    "beyond_ascii = list(filter(lambda c: c>127, map(ord, symbols)))\n",
    "beyond_ascii"
   ]
  },
  {
   "cell_type": "markdown",
   "id": "c093fe6b-f18b-4364-a7b2-87ed668b3492",
   "metadata": {},
   "source": [
    "## Cartesian Products"
   ]
  },
  {
   "cell_type": "markdown",
   "id": "a029eeda-c7f2-4e72-ad30-a5acfa656208",
   "metadata": {},
   "source": [
    "Example 2-4. Cartesian product using a list comprehension"
   ]
  },
  {
   "cell_type": "code",
   "execution_count": 11,
   "id": "4633dc2a-0001-4d17-a4d5-e79f9d85558f",
   "metadata": {},
   "outputs": [],
   "source": [
    "colors = [\"black\", \"white\"]\n",
    "sizes = [\"S\",\"M\",\"L\"]"
   ]
  },
  {
   "cell_type": "code",
   "execution_count": 13,
   "id": "07442b86-684b-4a9f-ab76-1371b7ea1138",
   "metadata": {},
   "outputs": [
    {
     "data": {
      "text/plain": [
       "[('black', 'S'),\n",
       " ('black', 'M'),\n",
       " ('black', 'L'),\n",
       " ('white', 'S'),\n",
       " ('white', 'M'),\n",
       " ('white', 'L')]"
      ]
     },
     "execution_count": 13,
     "metadata": {},
     "output_type": "execute_result"
    }
   ],
   "source": [
    "tshirts = [(color,size) for color in colors for size in sizes]\n",
    "tshirts"
   ]
  },
  {
   "cell_type": "code",
   "execution_count": 15,
   "id": "c85e375c-c8e9-4549-8809-f190562b075f",
   "metadata": {},
   "outputs": [
    {
     "data": {
      "text/plain": [
       "[('black', 'S'),\n",
       " ('white', 'S'),\n",
       " ('black', 'M'),\n",
       " ('white', 'M'),\n",
       " ('black', 'L'),\n",
       " ('white', 'L')]"
      ]
     },
     "execution_count": 15,
     "metadata": {},
     "output_type": "execute_result"
    }
   ],
   "source": [
    "tshirts = [(color,size) for size in sizes for color in colors]\n",
    "tshirts"
   ]
  },
  {
   "cell_type": "markdown",
   "id": "37e04958-225f-489e-b475-49a9833108d8",
   "metadata": {},
   "source": [
    "## Generator Expressions"
   ]
  },
  {
   "cell_type": "markdown",
   "id": "55ab8631-9697-404e-9c90-e2ebf67615ff",
   "metadata": {},
   "source": [
    "Example 2-5. Initializing a tuple and an array from a generator expression"
   ]
  },
  {
   "cell_type": "code",
   "execution_count": 16,
   "id": "5667e68c-f9ad-4dc9-af5f-829dfda63cac",
   "metadata": {},
   "outputs": [
    {
     "data": {
      "text/plain": [
       "(36, 162, 163, 165, 8364, 164)"
      ]
     },
     "execution_count": 16,
     "metadata": {},
     "output_type": "execute_result"
    }
   ],
   "source": [
    "tuple(ord(symbol) for symbol in symbols)"
   ]
  },
  {
   "cell_type": "code",
   "execution_count": 19,
   "id": "0cac75ec-8d51-460f-aafe-0b091c90600c",
   "metadata": {},
   "outputs": [
    {
     "data": {
      "text/plain": [
       "array('l', [36, 162, 163, 165, 8364, 164])"
      ]
     },
     "execution_count": 19,
     "metadata": {},
     "output_type": "execute_result"
    }
   ],
   "source": [
    "import array\n",
    "array.array(\"l\", (ord(symbol) for symbol in symbols))"
   ]
  },
  {
   "cell_type": "markdown",
   "id": "93f98b6f-cbf1-4fe8-935c-63528c66a1a2",
   "metadata": {},
   "source": [
    "Example 2-6. Cartesian product in a generator expression"
   ]
  },
  {
   "cell_type": "code",
   "execution_count": 21,
   "id": "6b35a5cb-ea82-45be-b4cb-2f71b0058e97",
   "metadata": {},
   "outputs": [
    {
     "name": "stdout",
     "output_type": "stream",
     "text": [
      "black S\n",
      "black M\n",
      "black L\n",
      "white S\n",
      "white M\n",
      "white L\n"
     ]
    }
   ],
   "source": [
    "for tshirt in (f'{c} {s}' for c in colors for s in sizes):\n",
    "    print(tshirt)"
   ]
  },
  {
   "cell_type": "markdown",
   "id": "070a5d1e-106e-4eae-8ab9-af72787c277b",
   "metadata": {},
   "source": [
    "## Tuples as Records"
   ]
  },
  {
   "cell_type": "markdown",
   "id": "389fe23d-5642-41aa-9a53-1094d7622f4c",
   "metadata": {},
   "source": [
    "Example 2-7. Tuples used as records"
   ]
  },
  {
   "cell_type": "code",
   "execution_count": 28,
   "id": "8d519e47-afb8-4ea7-8759-dd0f9cef7fdf",
   "metadata": {},
   "outputs": [],
   "source": [
    "lax_coordinates = (33.9425, -118.408056)\n",
    "city, year, pop, chg, area = ('Tokyo', 2003, 32_450, 0.66, 8014)\n",
    "traveler_ids = [(\"USA\", \"31195855\"), (\"BRA\", \"CE342567\"),(\"ESP\",\"XDA205856\")]"
   ]
  },
  {
   "cell_type": "code",
   "execution_count": 29,
   "id": "83dcc6b5-46b3-4b0c-81eb-9c3486019315",
   "metadata": {},
   "outputs": [
    {
     "name": "stdout",
     "output_type": "stream",
     "text": [
      "BRA/CE342567\n",
      "ESP/XDA205856\n",
      "USA/31195855\n"
     ]
    }
   ],
   "source": [
    "for passport in sorted(traveler_ids): \n",
    "    print(\"%s/%s\" % passport)"
   ]
  },
  {
   "cell_type": "code",
   "execution_count": 30,
   "id": "73a02a06-63a7-4a81-8a8a-c0ebe993ddf4",
   "metadata": {},
   "outputs": [
    {
     "name": "stdout",
     "output_type": "stream",
     "text": [
      "USA\n",
      "BRA\n",
      "ESP\n"
     ]
    }
   ],
   "source": [
    "for country, _ in traveler_ids:\n",
    "    print(country)"
   ]
  },
  {
   "cell_type": "markdown",
   "id": "6fdd8ce0-1212-424d-b1c6-b1ae700c104f",
   "metadata": {},
   "source": [
    "## Tuples as Immutable Lists"
   ]
  },
  {
   "cell_type": "code",
   "execution_count": 31,
   "id": "c67de01e-5e23-4f5f-8297-7670c8cd27d1",
   "metadata": {},
   "outputs": [
    {
     "data": {
      "text/plain": [
       "True"
      ]
     },
     "execution_count": 31,
     "metadata": {},
     "output_type": "execute_result"
    }
   ],
   "source": [
    "a = (10,\"alpha\", [1,2])\n",
    "b = (10, \"alpha\", [1,2])\n",
    "a == b"
   ]
  },
  {
   "cell_type": "code",
   "execution_count": 33,
   "id": "b1a7d08b-0734-4862-b3d5-746d3e01471b",
   "metadata": {},
   "outputs": [
    {
     "data": {
      "text/plain": [
       "False"
      ]
     },
     "execution_count": 33,
     "metadata": {},
     "output_type": "execute_result"
    }
   ],
   "source": [
    "b[-1].append(99)\n",
    "a == b"
   ]
  },
  {
   "cell_type": "code",
   "execution_count": 34,
   "id": "0568e34b-274c-4017-b1b7-3690ce44eaf2",
   "metadata": {},
   "outputs": [
    {
     "data": {
      "text/plain": [
       "(10, 'alpha', [1, 2, 99, 99])"
      ]
     },
     "execution_count": 34,
     "metadata": {},
     "output_type": "execute_result"
    }
   ],
   "source": [
    "b"
   ]
  },
  {
   "cell_type": "code",
   "execution_count": 36,
   "id": "7b192bc5-b7ed-4815-a839-f5e8ad9ace43",
   "metadata": {},
   "outputs": [],
   "source": [
    "def fixed(o):\n",
    "    try:\n",
    "        hash(o)\n",
    "    except TypeError:\n",
    "        return False\n",
    "    return True"
   ]
  },
  {
   "cell_type": "code",
   "execution_count": 37,
   "id": "28b7737f-94b3-4b8d-9c55-f333678e9c6c",
   "metadata": {},
   "outputs": [],
   "source": [
    "tf = (10,\"alpha\",(1,2))\n",
    "tm = (10, \"alpha\", [1,2])"
   ]
  },
  {
   "cell_type": "code",
   "execution_count": 38,
   "id": "016b4b36-f407-4f9f-af0b-2ac7b1281cdf",
   "metadata": {},
   "outputs": [
    {
     "data": {
      "text/plain": [
       "True"
      ]
     },
     "execution_count": 38,
     "metadata": {},
     "output_type": "execute_result"
    }
   ],
   "source": [
    "fixed(tf)"
   ]
  },
  {
   "cell_type": "code",
   "execution_count": 39,
   "id": "acb12596-dc6e-46a9-8aba-2ecd4fcf351e",
   "metadata": {},
   "outputs": [
    {
     "data": {
      "text/plain": [
       "False"
      ]
     },
     "execution_count": 39,
     "metadata": {},
     "output_type": "execute_result"
    }
   ],
   "source": [
    "fixed(tm)"
   ]
  },
  {
   "cell_type": "markdown",
   "id": "3d67ed08-7ff5-47cb-aa59-66174866bbd1",
   "metadata": {},
   "source": [
    "## Unpacking Sequences and Iterables"
   ]
  },
  {
   "cell_type": "code",
   "execution_count": 40,
   "id": "0e714357-7185-41cb-9d9e-1428d71b5b90",
   "metadata": {},
   "outputs": [],
   "source": [
    "latitude, longitude = lax_coordinates"
   ]
  },
  {
   "cell_type": "code",
   "execution_count": 41,
   "id": "5e34e74b-d781-4904-8323-02e97f09f54e",
   "metadata": {},
   "outputs": [
    {
     "data": {
      "text/plain": [
       "33.9425"
      ]
     },
     "execution_count": 41,
     "metadata": {},
     "output_type": "execute_result"
    }
   ],
   "source": [
    "latitude"
   ]
  },
  {
   "cell_type": "code",
   "execution_count": 42,
   "id": "910439fd-4029-40ae-8879-bcd3ee657898",
   "metadata": {},
   "outputs": [
    {
     "data": {
      "text/plain": [
       "-118.408056"
      ]
     },
     "execution_count": 42,
     "metadata": {},
     "output_type": "execute_result"
    }
   ],
   "source": [
    "longitude"
   ]
  },
  {
   "cell_type": "code",
   "execution_count": 44,
   "id": "0835eaa7-744a-4475-a0d8-f8a7cda07aca",
   "metadata": {},
   "outputs": [],
   "source": [
    "b,a = a,b"
   ]
  },
  {
   "cell_type": "code",
   "execution_count": 45,
   "id": "cb8763cf-1085-47ce-ab9a-db5f4f64df5c",
   "metadata": {},
   "outputs": [
    {
     "data": {
      "text/plain": [
       "(2, 4)"
      ]
     },
     "execution_count": 45,
     "metadata": {},
     "output_type": "execute_result"
    }
   ],
   "source": [
    "divmod(20,8)"
   ]
  },
  {
   "cell_type": "code",
   "execution_count": 47,
   "id": "f6d7eef5-2ae1-4ce1-899d-f04f93114121",
   "metadata": {},
   "outputs": [
    {
     "data": {
      "text/plain": [
       "(2, 4)"
      ]
     },
     "execution_count": 47,
     "metadata": {},
     "output_type": "execute_result"
    }
   ],
   "source": [
    "t = (20,8)\n",
    "divmod(*t)"
   ]
  },
  {
   "cell_type": "code",
   "execution_count": 48,
   "id": "a308bc7f-1dc8-4f69-b775-b68653eae7c7",
   "metadata": {},
   "outputs": [
    {
     "data": {
      "text/plain": [
       "(2, 4)"
      ]
     },
     "execution_count": 48,
     "metadata": {},
     "output_type": "execute_result"
    }
   ],
   "source": [
    "quotient, remainder = divmod(*t)\n",
    "quotient, remainder"
   ]
  },
  {
   "cell_type": "markdown",
   "id": "1069d6e5-efcf-499d-ad4d-523a1020883e",
   "metadata": {},
   "source": [
    "## Using * to Grab Excess Items"
   ]
  },
  {
   "cell_type": "code",
   "execution_count": 49,
   "id": "ddde266b-d006-41f4-a0e0-c23afb20247f",
   "metadata": {},
   "outputs": [
    {
     "data": {
      "text/plain": [
       "(0, 1, [2, 3, 4])"
      ]
     },
     "execution_count": 49,
     "metadata": {},
     "output_type": "execute_result"
    }
   ],
   "source": [
    "a,b, *rest = range(5)\n",
    "a,b,rest"
   ]
  },
  {
   "cell_type": "code",
   "execution_count": 52,
   "id": "7dc57219-074a-400d-a9b0-18ca3c0e47a2",
   "metadata": {},
   "outputs": [
    {
     "data": {
      "text/plain": [
       "(0, 1, [2])"
      ]
     },
     "execution_count": 52,
     "metadata": {},
     "output_type": "execute_result"
    }
   ],
   "source": [
    "a,b,*rest = range(3)\n",
    "a,b,rest"
   ]
  },
  {
   "cell_type": "code",
   "execution_count": 54,
   "id": "16aacb64-3c79-4baa-a665-956a91caeca7",
   "metadata": {},
   "outputs": [
    {
     "data": {
      "text/plain": [
       "(0, 1, [])"
      ]
     },
     "execution_count": 54,
     "metadata": {},
     "output_type": "execute_result"
    }
   ],
   "source": [
    "a,b,*rest = range(2)\n",
    "a,b,rest"
   ]
  },
  {
   "cell_type": "code",
   "execution_count": 55,
   "id": "4d452b23-f86a-40e7-a5ba-259cb80d8853",
   "metadata": {},
   "outputs": [
    {
     "data": {
      "text/plain": [
       "(0, [1, 2], 3, 4)"
      ]
     },
     "execution_count": 55,
     "metadata": {},
     "output_type": "execute_result"
    }
   ],
   "source": [
    "a,*body, c,d = range(5)\n",
    "a,body,c,d"
   ]
  },
  {
   "cell_type": "code",
   "execution_count": 56,
   "id": "396eb14c-edde-4f57-b6ab-f2df390e88c2",
   "metadata": {},
   "outputs": [
    {
     "data": {
      "text/plain": [
       "([0, 1], 2, 3, 4)"
      ]
     },
     "execution_count": 56,
     "metadata": {},
     "output_type": "execute_result"
    }
   ],
   "source": [
    "*head, b,c,d = range(5)\n",
    "head,b,c,d"
   ]
  },
  {
   "cell_type": "markdown",
   "id": "4f33f8f0-30f2-4e9a-a371-03d2b4b01c33",
   "metadata": {},
   "source": [
    "## Unpacking with * in Function Calls and Sequence Literals"
   ]
  },
  {
   "cell_type": "code",
   "execution_count": 58,
   "id": "8a26cfc4-a821-4dfc-a4ad-3a9f0a4aaaf4",
   "metadata": {},
   "outputs": [],
   "source": [
    "def fun(a,b,c,d, *rest):\n",
    "    return a,b,c,d,rest"
   ]
  },
  {
   "cell_type": "code",
   "execution_count": 59,
   "id": "61877c15-be3e-4144-8daa-a70082152a57",
   "metadata": {},
   "outputs": [
    {
     "data": {
      "text/plain": [
       "(1, 2, 3, 4, (5, 6))"
      ]
     },
     "execution_count": 59,
     "metadata": {},
     "output_type": "execute_result"
    }
   ],
   "source": [
    "fun(*[1,2],3,*range(4,7))"
   ]
  },
  {
   "cell_type": "code",
   "execution_count": 63,
   "id": "3b84fe60-b4cc-4bce-b981-db198b1d46df",
   "metadata": {},
   "outputs": [
    {
     "data": {
      "text/plain": [
       "(0, 1, 2, 3, 4)"
      ]
     },
     "execution_count": 63,
     "metadata": {},
     "output_type": "execute_result"
    }
   ],
   "source": [
    "*range(4),4"
   ]
  },
  {
   "cell_type": "code",
   "execution_count": 64,
   "id": "c9d80c59-1a6d-47e7-9c75-d56bb6fadf25",
   "metadata": {},
   "outputs": [
    {
     "data": {
      "text/plain": [
       "[0, 1, 2, 3, 4]"
      ]
     },
     "execution_count": 64,
     "metadata": {},
     "output_type": "execute_result"
    }
   ],
   "source": [
    "[*range(4),4]"
   ]
  },
  {
   "cell_type": "code",
   "execution_count": 65,
   "id": "e6ff8e59-9571-4c4e-9fcc-41ebe1ac5467",
   "metadata": {},
   "outputs": [
    {
     "data": {
      "text/plain": [
       "{0, 1, 2, 3, 4, 5, 6, 7}"
      ]
     },
     "execution_count": 65,
     "metadata": {},
     "output_type": "execute_result"
    }
   ],
   "source": [
    "{*range(4), 4, *(5,6,7)}"
   ]
  },
  {
   "cell_type": "markdown",
   "id": "c4333a1d-8eb2-4a36-b439-9be6ca99f6d7",
   "metadata": {},
   "source": [
    "## Nested Unpacking"
   ]
  },
  {
   "cell_type": "markdown",
   "id": "2f00e10e-58bc-47cc-ada4-5dba63bb5b96",
   "metadata": {},
   "source": [
    "Example 2-8. Unpacking nested tuples to access the longitude"
   ]
  },
  {
   "cell_type": "code",
   "execution_count": 67,
   "id": "9b09d117-a6b7-4e37-8828-e379a98eb490",
   "metadata": {},
   "outputs": [],
   "source": [
    "metro_areas = [\n",
    "    ('Tokyo', 'JP', 36.933, (35.689722, 139.691667)),  \n",
    "    ('Delhi NCR', 'IN', 21.935, (28.613889, 77.208889)),\n",
    "    ('Mexico City', 'MX', 20.142, (19.433333, -99.133333)),\n",
    "    ('New York-Newark', 'US', 20.104, (40.808611, -74.020386)),\n",
    "    ('São Paulo', 'BR', 19.649, (-23.547778, -46.635833)),\n",
    "]"
   ]
  },
  {
   "cell_type": "code",
   "execution_count": 78,
   "id": "73ed01d2-92fc-49d7-9146-3ffdec0cc850",
   "metadata": {},
   "outputs": [
    {
     "name": "stdout",
     "output_type": "stream",
     "text": [
      "                |  latitude | longitude\n",
      "Mexico City     |   19.4333 |  -99.1333\n",
      "New York-Newark |   40.8086 |  -74.0204\n",
      "São Paulo       |  -23.5478 |  -46.6358\n"
     ]
    }
   ],
   "source": [
    "print(f'{\"\":15} | {\"latitude\":>9} | {\"longitude\":>9}')\n",
    "for name, _,_, (lat,lon) in metro_areas:\n",
    "    if lon <= 0:\n",
    "        print(f'{name:15} | {lat:9.4f} | {lon:9.4f}')\n",
    "    "
   ]
  },
  {
   "cell_type": "markdown",
   "id": "68ce9652-ea7e-4ca0-8fdb-155edea26c44",
   "metadata": {},
   "source": [
    "## Pattern Matching with Sequences"
   ]
  },
  {
   "cell_type": "markdown",
   "id": "457e863e-0b0d-4423-9abc-e64f193c4f31",
   "metadata": {},
   "source": [
    "Example 2-9. Method from an imaginary Robot class"
   ]
  },
  {
   "cell_type": "code",
   "execution_count": 80,
   "id": "f4827926-f91a-4dd7-9267-d1f64fed4965",
   "metadata": {},
   "outputs": [],
   "source": [
    "def handle_command(self, message):\n",
    "        match message:  \n",
    "            case ['BEEPER', frequency, times]:  \n",
    "                self.beep(times, frequency)\n",
    "            case ['NECK', angle]:  \n",
    "                self.rotate_neck(angle)\n",
    "            case ['LED', ident, intensity]:  \n",
    "                self.leds[ident].set_brightness(ident, intensity)\n",
    "            case ['LED', ident, red, green, blue]:  \n",
    "                self.leds[ident].set_color(ident, red, green, blue)\n",
    "            case _:  \n",
    "                raise InvalidCommand(message)"
   ]
  },
  {
   "cell_type": "markdown",
   "id": "7bb80525-1db4-4bff-940c-6424230a0288",
   "metadata": {},
   "source": [
    "Example 2-10. Destructuring nested tuples—requires Python ≥ 3.10"
   ]
  },
  {
   "cell_type": "code",
   "execution_count": 83,
   "id": "fbe14192-1a2a-495b-bf41-3f698f8ac62c",
   "metadata": {},
   "outputs": [
    {
     "name": "stdout",
     "output_type": "stream",
     "text": [
      "                |  latitude | longitude\n",
      "Mexico City     |   19.4333 |  -99.1333\n",
      "New York-Newark |   40.8086 |  -74.0204\n",
      "São Paulo       |  -23.5478 |  -46.6358\n"
     ]
    }
   ],
   "source": [
    "print(f'{\"\":15} | {\"latitude\":>9} | {\"longitude\":>9}')\n",
    "for record in metro_areas:\n",
    "    match record:  \n",
    "        case [name, _, _, (lat, lon)] if lon <= 0:  \n",
    "            print(f'{name:15} | {lat:9.4f} | {lon:9.4f}')"
   ]
  },
  {
   "cell_type": "code",
   "execution_count": null,
   "id": "9266ce03-e473-487f-8cc5-9a7d77b74916",
   "metadata": {},
   "outputs": [],
   "source": []
  }
 ],
 "metadata": {
  "kernelspec": {
   "display_name": "Python 3 (ipykernel)",
   "language": "python",
   "name": "python3"
  },
  "language_info": {
   "codemirror_mode": {
    "name": "ipython",
    "version": 3
   },
   "file_extension": ".py",
   "mimetype": "text/x-python",
   "name": "python",
   "nbconvert_exporter": "python",
   "pygments_lexer": "ipython3",
   "version": "3.13.1"
  }
 },
 "nbformat": 4,
 "nbformat_minor": 5
}
